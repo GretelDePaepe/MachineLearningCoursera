{
 "cells": [
  {
   "cell_type": "code",
   "execution_count": 35,
   "metadata": {
    "collapsed": true
   },
   "outputs": [],
   "source": [
    "import itertools\n",
    "import Tkinter as tk"
   ]
  },
  {
   "cell_type": "markdown",
   "metadata": {},
   "source": [
    "### Create all possible combos of (not)x1 and (not)x2"
   ]
  },
  {
   "cell_type": "code",
   "execution_count": 36,
   "metadata": {
    "collapsed": false
   },
   "outputs": [
    {
     "data": {
      "text/plain": [
       "[(0, 0), (0, 1), (1, 0), (1, 1)]"
      ]
     },
     "execution_count": 36,
     "metadata": {},
     "output_type": "execute_result"
    }
   ],
   "source": [
    "a = itertools.product([0,1],repeat = 2)\n",
    "data = list(a)\n",
    "data"
   ]
  },
  {
   "cell_type": "markdown",
   "metadata": {},
   "source": [
    "###Create truth tables for Boolean Expression: \n",
    "####(x1 AND x2) OR (NOT x1 AND NOT x2)\n",
    "####Broken down\n",
    "####z1 = x1 AND x2\n",
    "####z2 =  NOT x1 AND NOT x2\n",
    "####y = z1 OR z2"
   ]
  },
  {
   "cell_type": "code",
   "execution_count": 37,
   "metadata": {
    "collapsed": false
   },
   "outputs": [],
   "source": [
    "def create_truth():\n",
    "    global truth_all\n",
    "    value = var.get()\n",
    "    truth = []\n",
    "    if value == 1:\n",
    "        #print 1\n",
    "        for i1,i2 in data:\n",
    "            if i1 == 1 and i2 == 1:\n",
    "                truth.append(1)\n",
    "            else:\n",
    "                truth.append(0)\n",
    "    elif value == 2:\n",
    "        #print 2\n",
    "        for i1,i2 in data:\n",
    "            if i1 == 1 or i2 == 1:\n",
    "                truth.append(1)\n",
    "            else:\n",
    "                truth.append(0)\n",
    "    elif value == 3:\n",
    "        #print 3\n",
    "        for i1,i2 in data:\n",
    "            if i1 != 1 and i2 != 1:\n",
    "                truth.append(1)\n",
    "            else:\n",
    "                truth.append(0)\n",
    "    elif value == 4:\n",
    "        #print 4\n",
    "        for i1,i2 in data:\n",
    "            if i1 == 1 and i2 != 1:\n",
    "                truth.append(1)\n",
    "            else:\n",
    "                truth_y.append(0)\n",
    "    elif value == 5:\n",
    "        #print 5\n",
    "        for i1,i2 in data:\n",
    "            if i1 != 1 and i2 == 1:\n",
    "                truth.append(1)\n",
    "            else:\n",
    "                truth.append(0)\n",
    "    elif value == 6:\n",
    "        #print 6\n",
    "        for i1,i2 in data:\n",
    "            if i1 != 1 or i2 != 1:\n",
    "                truth.append(1)\n",
    "            else:\n",
    "                truth.append(0)\n",
    "    truth_all.append(truth)\n",
    "    return truth_all"
   ]
  },
  {
   "cell_type": "code",
   "execution_count": 38,
   "metadata": {
    "collapsed": false
   },
   "outputs": [
    {
     "data": {
      "text/plain": [
       "[[0, 0, 0, 1], [1, 0, 0, 0], [0, 1, 1, 1]]"
      ]
     },
     "execution_count": 38,
     "metadata": {},
     "output_type": "execute_result"
    }
   ],
   "source": [
    "truth_all = []\n",
    "for i in range(3):\n",
    "    root = tk.Tk()\n",
    "    var = tk.IntVar()\n",
    "    if i == 0:\n",
    "        label = \"Choose for z1\"\n",
    "    elif i == 1:\n",
    "        label = \"Choose for z2\"\n",
    "    else:\n",
    "        label = \"Choose for y\"\n",
    "    \n",
    "    mainLabel = tk.Label(root, text=label)\n",
    "    mainLabel.pack()\n",
    "    \n",
    "    R1 = tk.Radiobutton(root, text=\"x1 and x2\", variable=var, value=1,command=create_truth)\n",
    "    R1.pack()\n",
    "    R2 = tk.Radiobutton(root, text=\"x1 or x2\", variable=var, value=2,command=create_truth)\n",
    "    R2.pack()\n",
    "    R3 = tk.Radiobutton(root, text=\"not x1 and not x2\", variable=var, value=3,command=create_truth)\n",
    "    R3.pack()\n",
    "    R4 = tk.Radiobutton(root, text=\"x1 and not x2\", variable=var, value=4,command=create_truth)\n",
    "    R4.pack()\n",
    "    R5 = tk.Radiobutton(root, text=\"not x1 and x2\", variable=var, value=5,command=create_truth)\n",
    "    R5.pack()\n",
    "    R6 = tk.Radiobutton(root, text=\"x1 or not x2\", variable=var, value=6,command=create_truth)\n",
    "    R6.pack()\n",
    "\n",
    "    button = tk.Button (root, text = \"Good-bye.\", command = root.destroy)\n",
    "    button.pack()\n",
    "\n",
    "    root.mainloop()\n",
    "truth_all"
   ]
  },
  {
   "cell_type": "markdown",
   "metadata": {},
   "source": [
    "### Provide the answers to choose from"
   ]
  },
  {
   "cell_type": "code",
   "execution_count": 31,
   "metadata": {
    "collapsed": true
   },
   "outputs": [],
   "source": [
    "# Possible Answers\n",
    "option1 = [[-1,1,-0.5],\n",
    "           [-1,1,1.5],\n",
    "           [1,1,-0.5]]\n",
    "option2 = [[1,1,-1.5],\n",
    "           [-1,-1,0.5],\n",
    "           [1,1,-1,5]]\n",
    "option3 = [[1,1,-1,5],\n",
    "           [-1,-1,1.5],\n",
    "           [1,1,-0.5]]\n",
    "option4 = [[1,1,-1,5],\n",
    "           [-1,-1,0.5],\n",
    "           [1,1,-0.5]]\n",
    "option5 = [[1,1,-1.5],\n",
    "           [-1,-1,1.5],\n",
    "           [1,1,-0.5]]"
   ]
  },
  {
   "cell_type": "markdown",
   "metadata": {},
   "source": [
    "### Test each answer"
   ]
  },
  {
   "cell_type": "code",
   "execution_count": 39,
   "metadata": {
    "collapsed": true
   },
   "outputs": [],
   "source": [
    "def option_correct(option):\n",
    "    option_truth = []\n",
    "    for l in option:\n",
    "        truth = []\n",
    "        for x1,x2 in data:\n",
    "            # print x1,x2\n",
    "            r = x1*l[0]+x2*l[1]+l[2]\n",
    "            if r > 0:\n",
    "                truth.append(1)\n",
    "            else:\n",
    "                truth.append(0)\n",
    "        option_truth.append(truth)\n",
    "    # print option_truth\n",
    "    print option_truth == truth_all"
   ]
  },
  {
   "cell_type": "code",
   "execution_count": 40,
   "metadata": {
    "collapsed": false
   },
   "outputs": [
    {
     "name": "stdout",
     "output_type": "stream",
     "text": [
      "False\n",
      "False\n",
      "False\n",
      "True\n",
      "False\n"
     ]
    }
   ],
   "source": [
    "option_correct(option1)\n",
    "option_correct(option2)\n",
    "option_correct(option3)\n",
    "option_correct(option4)\n",
    "option_correct(option5)"
   ]
  }
 ],
 "metadata": {
  "kernelspec": {
   "display_name": "Python 2",
   "language": "python",
   "name": "python2"
  },
  "language_info": {
   "codemirror_mode": {
    "name": "ipython",
    "version": 2
   },
   "file_extension": ".py",
   "mimetype": "text/x-python",
   "name": "python",
   "nbconvert_exporter": "python",
   "pygments_lexer": "ipython2",
   "version": "2.7.10"
  }
 },
 "nbformat": 4,
 "nbformat_minor": 0
}
